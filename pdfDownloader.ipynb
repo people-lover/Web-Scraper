{
cells: [
{
cell_type: "markdown",
metadata: {
collapsed: true
},
source: [
"# PDF Downloader"
]
},
{
cell_type: "markdown",
metadata: { },
source: [
"# Libraries Used ",
" ",
"### urllib ",
" ",
"For opening URLs ",
" ",
"To install: ",
"pip install urllib ",
" ",
"### bs4 ",
" ",
"For Scraping the page using BeautifulSoup ",
" ",
"To install: ",
"pip install bs4"
]
},
{
cell_type: "code",
execution_count: 33,
metadata: { },
outputs: [ ],
source: [
"#importing files ",
" ",
"'''#Python 3 ",
"#importing dependencies ",
"from urllib.request import urlopen as uReq #for opening URLs ",
"from bs4 import BeautifulSoup as soup #for scraping the web''' ",
" ",
"#Python 2 ",
"#importing dependencies ",
"from urllib2 import urlopen as uReq ",
"from bs4 import BeautifulSoup as soup"
]
},
{
cell_type: "code",
execution_count: 34,
metadata: {
collapsed: true
},
outputs: [ ],
source: [
"def getPDFurls(url): ",
" print (url) ",
" ",
" my_url = url #URL you want to scrap ",
" ",
" uClient = uReq(my_url) #opening connection and grabing the page ",
" page_html = uClient.read() #reading the page ",
" uClient.close() #closing the connection ",
" ",
" #parsing as html (can be xml,etc.) ",
" page_soup = soup(page_html, "html.parser") ",
" ",
" #grabing all <A> tags ",
" aAll = page_soup.findAll("a") ",
" ",
" pdf_url_list = [] ",
" ",
" #going through all <A> tags ",
" for a in aAll: ",
" link = a["href"] #getting the href attribute or the URL ",
" if (link[-4:] == ".pdf"): #checking whether it is a pdf url or not ",
" pdf_url_list.append(link) ",
" ",
" #returning the url list ",
" return (pdf_url_list) "
]
},
{
cell_type: "code",
execution_count: null,
metadata: {
collapsed: true
},
outputs: [ ],
source: [
"def downloadPDFurls(url): ",
" print (url) ",
" ",
" pdf_url_list = getPDFurls"
]
},
{
cell_type: "code",
execution_count: 35,
metadata: { },
outputs: [
{
name: "stdout",
output_type: "stream",
text: [
"http://football-data.co.uk/englandm.php ",
"[u'http://www.football-data.co.uk/ratings.pdf', u'http://www.football-data.co.uk/ratings.pdf'] "
]
}
],
source: [
"print (getPDFurls("http://football-data.co.uk/englandm.php"))"
]
},
{
cell_type: "markdown",
metadata: { },
source: [
"#### Kuldeep Singh Sidhu ",
"##### github.com/singhsidhukuldeep"
]
}
],
metadata: {
kernelspec: {
display_name: "Python 2",
language: "python",
name: "python2"
},
language_info: {
codemirror_mode: {
name: "ipython",
version: 2
},
file_extension: ".py",
mimetype: "text/x-python",
name: "python",
nbconvert_exporter: "python",
pygments_lexer: "ipython2",
version: "2.7.13"
}
},
nbformat: 4,
nbformat_minor: 1
}
