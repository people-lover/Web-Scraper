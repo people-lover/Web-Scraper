{
 "cells": [
  {
   "cell_type": "markdown",
   "metadata": {
    "collapsed": true
   },
   "source": [
    "# PDF Downloader"
   ]
  },
  {
   "cell_type": "markdown",
   "metadata": {},
   "source": [
    "# Libraries Used\n",
    "\n",
    "### urllib\n",
    "\n",
    "For opening URLs\n",
    "\n",
    "To install: \n",
    "pip install urllib\n",
    "\n",
    "### bs4\n",
    "\n",
    "For Scraping the page using BeautifulSoup\n",
    "\n",
    "To install: \n",
    "pip install bs4"
   ]
  },
  {
   "cell_type": "code",
   "execution_count": 21,
   "metadata": {},
   "outputs": [],
   "source": [
    "#importing files\n",
    "\n",
    "'''#Python 3\n",
    "#importing dependencies\n",
    "from urllib.request import urlopen as uReq #for opening URLs\n",
    "from bs4 import BeautifulSoup as soup #for scraping the web'''\n",
    "\n",
    "#Python 2\n",
    "#importing dependencies\n",
    "from urllib2 import urlopen as uReq\n",
    "from bs4 import BeautifulSoup as soup"
   ]
  },
  {
   "cell_type": "code",
   "execution_count": 22,
   "metadata": {
    "collapsed": true
   },
   "outputs": [],
   "source": [
    "def getPDFurls(url):\n",
    "    print url\n",
    "    \n",
    "    my_url = url #URL you want to scrap\n",
    "\n",
    "    uClient = uReq(my_url) #opening connection and grabing the page\n",
    "    page_html = uClient.read() #reading the page\n",
    "    uClient.close() #closing the connection\n",
    "\n",
    "    #parsing as html (can be xml,etc.)\n",
    "    page_soup = soup(page_html, \"html.parser\") \n",
    "\n",
    "    #grabing all <A> tags\n",
    "    aAll = page_soup.findAll(\"a\")\n",
    "    \n",
    "    pdf_url_list = []\n",
    "    \n",
    "    #going through all <A> tags\n",
    "    for a in aAll:\n",
    "        link = a[\"href\"] #getting the href attribute or the URL\n",
    "        print link\n",
    "        if link[-4:] == \".pdf\":\n",
    "            pdf_url_list.append(link)\n",
    "            \n",
    "    print (pdf_url_list)"
   ]
  },
  {
   "cell_type": "code",
   "execution_count": 23,
   "metadata": {},
   "outputs": [
    {
     "name": "stdout",
     "output_type": "stream",
     "text": [
      "http://football-data.co.uk/englandm.php\n",
      "[u'http://www.football-data.co.uk/ratings.pdf', u'http://www.football-data.co.uk/ratings.pdf']\n"
     ]
    }
   ],
   "source": [
    "getPDFurls(\"http://football-data.co.uk/englandm.php\")"
   ]
  },
  {
   "cell_type": "markdown",
   "metadata": {},
   "source": [
    "#### Kuldeep Singh Sidhu\n",
    "##### github.com/singhsidhukuldeep"
   ]
  }
 ],
 "metadata": {
  "kernelspec": {
   "display_name": "Python 2",
   "language": "python",
   "name": "python2"
  },
  "language_info": {
   "codemirror_mode": {
    "name": "ipython",
    "version": 2
   },
   "file_extension": ".py",
   "mimetype": "text/x-python",
   "name": "python",
   "nbconvert_exporter": "python",
   "pygments_lexer": "ipython2",
   "version": "2.7.13"
  }
 },
 "nbformat": 4,
 "nbformat_minor": 1
}
